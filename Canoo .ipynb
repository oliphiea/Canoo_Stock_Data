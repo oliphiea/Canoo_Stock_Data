{
 "cells": [
  {
   "cell_type": "markdown",
   "metadata": {},
   "source": [
    "### This script uses the yfinance library to download historical stock data for Canoo (ticker symbol: GOEV) and saves it to a CSV file."
   ]
  },
  {
   "cell_type": "code",
   "execution_count": 1,
   "metadata": {},
   "outputs": [],
   "source": [
    "# importing important libraries\n",
    "import yfinance as yf  # used to retrieve stock data\n",
    "import pandas as pd    # used to manipulate and save data."
   ]
  },
  {
   "cell_type": "code",
   "execution_count": 2,
   "metadata": {},
   "outputs": [],
   "source": [
    "# Define the ticker symbol for Canoo as \"GOEV\"\n",
    "ticker_symbol = \"GOEV\""
   ]
  },
  {
   "cell_type": "code",
   "execution_count": 3,
   "metadata": {},
   "outputs": [
    {
     "name": "stderr",
     "output_type": "stream",
     "text": [
      "[*********************100%%**********************]  1 of 1 completed\n"
     ]
    }
   ],
   "source": [
    "# Retrieve stock data\n",
    "stock_data = yf.download(ticker_symbol, start=\"2023-01-01\", end=\"2024-02-13\")"
   ]
  },
  {
   "cell_type": "markdown",
   "metadata": {},
   "source": [
    "This line uses the download function from the yfinance library to retrieve historical stock data for Canoo. It specifies the ticker symbol (ticker_symbol), the start date (start=\"2023-01-01\"), and the end date (end=\"2024-02-13\"). The downloaded data is stored in the stock_data variable."
   ]
  },
  {
   "cell_type": "code",
   "execution_count": 4,
   "metadata": {},
   "outputs": [],
   "source": [
    "# Save data to CSV\n",
    "stock_data.to_csv(\"canoo_stock_data.csv\")"
   ]
  },
  {
   "cell_type": "markdown",
   "metadata": {},
   "source": [
    "This line saves the downloaded stock data to a CSV file named \"canoo_stock_data.csv\". It uses the to_csv method of the DataFrame object (stock_data) returned by the yfinance library."
   ]
  },
  {
   "cell_type": "code",
   "execution_count": 5,
   "metadata": {},
   "outputs": [
    {
     "name": "stdout",
     "output_type": "stream",
     "text": [
      "Stock data has been saved to canoo_stock_data.csv\n"
     ]
    }
   ],
   "source": [
    "print(\"Stock data has been saved to canoo_stock_data.csv\")"
   ]
  },
  {
   "cell_type": "markdown",
   "metadata": {},
   "source": [
    "This line prints a message indicating that the stock data has been successfully saved to the CSV file."
   ]
  },
  {
   "cell_type": "code",
   "execution_count": null,
   "metadata": {},
   "outputs": [],
   "source": []
  },
  {
   "cell_type": "code",
   "execution_count": null,
   "metadata": {},
   "outputs": [],
   "source": []
  }
 ],
 "metadata": {
  "kernelspec": {
   "display_name": "Python 3",
   "language": "python",
   "name": "python3"
  },
  "language_info": {
   "codemirror_mode": {
    "name": "ipython",
    "version": 3
   },
   "file_extension": ".py",
   "mimetype": "text/x-python",
   "name": "python",
   "nbconvert_exporter": "python",
   "pygments_lexer": "ipython3",
   "version": "3.7.6"
  }
 },
 "nbformat": 4,
 "nbformat_minor": 4
}
